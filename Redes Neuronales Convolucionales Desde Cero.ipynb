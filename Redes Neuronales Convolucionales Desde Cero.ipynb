{
 "cells": [
  {
   "cell_type": "markdown",
   "metadata": {},
   "source": [
    "# Redes Neuronales Convolucionales Desde Cero\n",
    "\n",
    "En este notebook implementaremos una capa convolucional y una capa de agrupación desde cero, así como una función para aplicar las operaciones correspondientes, todo con el fin de entender mejor su funcionamiento.\n",
    "\n",
    "Con esta finalidad, nos apoyaremos tanto en `numpy` como en `matplotlib`, dos de las librerías de Python más relevantes, populares y fundacionales para data science y machine learning."
   ]
  },
  {
   "cell_type": "markdown",
   "metadata": {},
   "source": [
    "## Preliminares\n",
    "\n",
    "Empecemos importando las librerías que necesitaremos."
   ]
  },
  {
   "cell_type": "code",
   "execution_count": 1,
   "metadata": {},
   "outputs": [],
   "source": [
    "import numpy as np\n",
    "import h5py\n",
    "import matplotlib.pyplot as plt"
   ]
  },
  {
   "cell_type": "markdown",
   "metadata": {},
   "source": [
    "Ahora configuremos algunos parámetros por defecto:"
   ]
  },
  {
   "cell_type": "code",
   "execution_count": 2,
   "metadata": {},
   "outputs": [],
   "source": [
    "%matplotlib inline\n",
    "plt.rcParams['figure.figsize'] = (5.0, 4.0)\n",
    "plt.rcParams['image.interpolation'] = 'nearest'\n",
    "plt.rcParams['image.cmap'] = 'gray'\n",
    "\n",
    "%load_ext autoreload\n",
    "%autoreload 2\n",
    "\n",
    "np.random.seed(1)"
   ]
  },
  {
   "cell_type": "markdown",
   "metadata": {},
   "source": [
    "## Nuestro Plan\n",
    "\n",
    "Nuestro plan es implementar el siguiente modelo:\n",
    "\n",
    "<img src=\"assets/model.png\" style=\"width:800px;height:300px;\">\n",
    "\n",
    "Particularmente, implementaremos funciones para crear dos de las piezas más importantes de una CNN: **Capas convolucionales**, y **capas de agrupamiento**.\n",
    "\n",
    "Dado que las redes neuronales propagan la información hacia adelante, y el error hacia atrás (para aprender), guardaremos algunos parámetros en un cache para evitar cálculos innecesarios."
   ]
  },
  {
   "cell_type": "markdown",
   "metadata": {},
   "source": [
    "## CNNs: Más Difíciles de lo que Parecen\n",
    "\n",
    "\n",
    "TensorFlow, Keras, fast.ai, PyTorch, Caffe, Deeplearning4j... Estos son algunos de los frameworks que hacen que programar una red neuronal convolucional parezca fácil. Sin embargo, las CNNs siguen siendo uno de los conceptos más difíciles de entender en el campo de deep learning.\n",
    "\n",
    "### Convolución\n",
    "\n",
    "Esta es la operación principal de una capa de convolución. En resumen, transforma un volumen de entrada en un volumen de salida con un tamaño diferente: \n",
    "\n",
    "<img src=\"assets/conv_nn.png\" style=\"width:350px;height:200px;\">\n",
    "\n",
    "### Padding\n",
    "\n",
    "<img src=\"assets/PAD.png\" style=\"width:600px;height:400px;\">\n",
    "<caption><center> Zero-Padding<br> Imagen (3 canales, RGB) con un padding de 2. </center></caption>\n",
    "\n",
    "Padding consiste en adicionar ceros a los bordes de una imagen (o volumen) para permitir que las operaciones de convolución se lleven a cabo cerca de los límites del mismo. \n",
    "\n",
    "Esto tiene el beneficio de ayudarnos a mantener la información que aparece en los bordes de la imagen, la cual, sin padding, se perdería.\n",
    "\n",
    "Así mismo, podemos aplicar convoluciones a volúmenes sin necesidad de reducir la altura o el peso de los volúmenes.\n",
    "\n",
    "Implementemos una función para aplicar padding:"
   ]
  },
  {
   "cell_type": "code",
   "execution_count": 3,
   "metadata": {},
   "outputs": [],
   "source": [
    "def zero_pad(X, pad):\n",
    "    \"\"\"\n",
    "    :param X: X es un tensor de dimensiones (batch_size, height, width, number_of_channels).\n",
    "    :param pad: Cantidad de padding a ser aplicado horizontal y verticalmente al volumen.\n",
    "    \n",
    "    :return El tensor X padded con ceros y con dimensiones (batch_size, height + 2 * pad, width + 2 * pad, number_of_channels)\n",
    "    \"\"\"\n",
    "    \n",
    "    # Aquí aplicamos padding 'constant' tanto al ancho como al alto. El primer y último [(0, 0)]  le indica a np.pad que queremos pad con ceros\n",
    "    # cada batch y cada canal del volumen. La constante por defecto es cero, razón por la cual no lo especificamos de manera explícita.\n",
    "    X_pad = np.pad(X, [(0, 0)] + [(pad, pad) for _ in range(len(X.shape[1:-1]))] + [(0, 0)], 'constant')"
   ]
  },
  {
   "cell_type": "markdown",
   "metadata": {},
   "source": [
    "Probémosla."
   ]
  },
  {
   "cell_type": "code",
   "execution_count": 4,
   "metadata": {},
   "outputs": [
    {
     "name": "stdout",
     "output_type": "stream",
     "text": [
      "X shape: (4, 3, 3, 2)\n",
      "X_pad shape: (4, 7, 7, 2)\n"
     ]
    }
   ],
   "source": [
    "np.random.seed(1)\n",
    "\n",
    "X = np.random.randn(4, 3, 3, 2)\n",
    "X_pad = zero_pad(X, 2)\n",
    "\n",
    "print(f'X shape: {X.shape}')\n",
    "print(f'X_pad shape: {X_pad.shape}')"
   ]
  },
  {
   "cell_type": "markdown",
   "metadata": {},
   "source": [
    "Mostremos X y X_pad como imágenes:"
   ]
  },
  {
   "cell_type": "code",
   "execution_count": 6,
   "metadata": {},
   "outputs": [
    {
     "data": {
      "text/plain": [
       "<matplotlib.image.AxesImage at 0x1bcc039f9b0>"
      ]
     },
     "execution_count": 6,
     "metadata": {},
     "output_type": "execute_result"
    },
    {
     "data": {
      "image/png": "[encoded data removed]",
      "text/plain": [
       "<matplotlib.figure.Figure at 0x1bcbe307be0>"
      ]
     },
     "metadata": {},
     "output_type": "display_data"
    }
   ],
   "source": [
    "fig, ax = plt.subplots(1, 2)\n",
    "ax[0].set_title('X')\n",
    "ax[0].imshow(X[0, :, :, 0])\n",
    "\n",
    "ax[1].set_title('X_pad')\n",
    "ax[1].imshow(X_pad[0, :, :, 0])"
   ]
  },
  {
   "cell_type": "markdown",
   "metadata": {},
   "source": [
    "Podemos ver que `X_pad` tiene un borde negro que rodea a la imagen original correspondiente a `X`, lo cual tiene sentido, puesto que 0 representa el color negro absoluto en escala de grises."
   ]
  },
  {
   "cell_type": "markdown",
   "metadata": {},
   "source": [
    "### Paso de Convolución\n",
    "\n",
    "Prosigamos con el paso principal: ¡Convolución!\n",
    "\n",
    "Sólo como un recordatorio rápido, mira la imagen de abajo para refrescar tu mente sobre cómo una operación de convolución funciona:\n",
    "\n",
    "<img src=\"assets/Convolution_schematic.gif\" style=\"width:500px;height:300px;\">\n",
    "<caption><center> Convolución con un filtro 2x2 y un stride de 1 (stride = cantidad de pixeles que desplazaremos la ventana cada vez que la deslicemos por la imagen) </center></caption>\n",
    "\n",
    "Aquí cada valor en la izquierda corresponde a un solo píxel, y estamos aplicando una convolución con un filtro 3x3. La operación, entonces, consiste en multiplicar la región de la imagen por los elementos en el filtro, posición por posición. Finalmente, sumamos todos los valores para producir una única entrada en el volumen resultante."
   ]
  },
  {
   "cell_type": "code",
   "execution_count": 7,
   "metadata": {},
   "outputs": [],
   "source": [
    "def convolution_step(previous_layer_slice, weights, bias):\n",
    "    s = np.multiply(previous_layer_slice, weights)\n",
    "    result = np.sum(s)\n",
    "    result += bias[0, 0, 0]\n",
    "    \n",
    "    return Z"
   ]
  },
  {
   "cell_type": "markdown",
   "metadata": {},
   "source": [
    "Probemos la función:"
   ]
  },
  {
   "cell_type": "code",
   "execution_count": 9,
   "metadata": {},
   "outputs": [
    {
     "name": "stdout",
     "output_type": "stream",
     "text": [
      "Z = -6.094205555853435\n"
     ]
    }
   ],
   "source": [
    "np.random.seed(1)\n",
    "\n",
    "previous_layer_slice = np.random.randn(4, 4, 3)  \n",
    "weights = np.random.randn(4, 4, 3)  # This is the filter we will apply\n",
    "bias = np.random.rand(1, 1, 1)\n",
    "\n",
    "Z = convolution_step(previous_layer_slice, weights, bias)\n",
    "\n",
    "print(f'Z = {Z}')"
   ]
  },
  {
   "cell_type": "markdown",
   "metadata": {},
   "source": [
    "Como observamos, la función que acabamos de implementar sólo aplica la convolución sobre un área o porción específica de la capa anterior. Por lo tanto, si realmente queremos producir un nuevo volumen, debemos aplicar esta función muchas veces. En otras palabras, debemos implementar una función de pase hacia adelante."
   ]
  },
  {
   "cell_type": "markdown",
   "metadata": {},
   "source": [
    "### CNNs - Pase Hacia Adelante\n",
    "\n",
    "Implementaremos el siguiente proceso:\n",
    "    \n",
    "<center>\n",
    "<video width=\"620\" height=\"440\" src=\"assets/conv_kiank.mp4\" type=\"video/mp4\" controls>\n",
    "</video>\n",
    "</center>\n",
    "\n",
    "Aplicaremos un conjunto de filtros a todas las regiones de un volumen de entrada para producir la debida salida.\n",
    "\n",
    "NOTA: No nos preocuparemos por eficiencia. Más bien, nos enfocaremos en la simplicidad. Por esta razón, nuestra solución será iterativa, en vez de vectorizada."
   ]
  },
  {
   "cell_type": "code",
   "execution_count": 12,
   "metadata": {},
   "outputs": [],
   "source": [
    "def convolution_forward(previous_layer, filters, biases, hyper_parameters):\n",
    "    \n",
    "    # Extrae las dimensiones de la capa anterior\n",
    "    (batch_size, previous_height, previous_width, previous_channels) = previous_layer.shape\n",
    "    \n",
    "    \n",
    "    # Extrae las dimensiones de los filtros de convolución\n",
    "    (filter_size, filter_size, previous_channels, number_of_filters) = filters.shape\n",
    "    \n",
    "    # Extrae los hiperparámetros relevantes.\n",
    "    stride = hyper_parameters['stride']\n",
    "    pad = hyper_parameters['pad']\n",
    "    \n",
    "    # Calcula las dimensiones del volumen de salida\n",
    "    output_height = int((previous_height - filter_size + 2 * pad) / stride + 1)\n",
    "    output_width = int((previous_width - filter_size + 2 * pad) / stride + 1)\n",
    "    \n",
    "    # Inicializa el volumen de salida con ceros.\n",
    "    output_volume = np.zeros((batch_size, output_height, output_width, number_of_filters))\n",
    "    \n",
    "    # Aplica padding a la capa anterior (entrada)\n",
    "    previous_layer_padded = zero_pad(previous_layer, pad)\n",
    "    \n",
    "    for i in range(batch_size):\n",
    "        padded_training_example = previous_layer_padded[i, :, :, :]\n",
    "        \n",
    "        for h in range(output_height):\n",
    "            for w in range(output_width):\n",
    "                for c in range(number_of_filters):\n",
    "                \n",
    "                    # Encuetra los vértices de la región de interés para \n",
    "                    # el ejemplo de entrenamiento actual\n",
    "                    vertical_start = w\n",
    "                    vertical_end = w + filter_size\n",
    "                    horizontal_start = h\n",
    "                    horizontal_end = h + filter_size\n",
    "                    \n",
    "                    # Usa estos vértices para definir la porción (3D) del padded_training_example\n",
    "                    padded_slice = padded_training_example[vertical_start:vertical_end,\n",
    "                                                           horizontal_start:horizontal_end]\n",
    "                    \n",
    "                    # Aplica la convolución\n",
    "                    weights = filters[:, :, :, c]\n",
    "                    bias = biases[:, :, :, c]\n",
    "                    \n",
    "                    output_volume[i, h, w, c] = convolution_step(padded_slice, weights, bias)\n",
    "                    \n",
    "    # Verificamos que las dimensiones son las correctas.\n",
    "    assert(output_volume.shape == (batch_size, output_height, output_width, number_of_filters))\n",
    "    \n",
    "    # Guardamos la información en cache.\n",
    "    cache = (previous_layer, filters, biases, hyper_parameters)\n",
    "    \n",
    "    return output_volume, cache"
   ]
  },
  {
   "cell_type": "markdown",
   "metadata": {},
   "source": [
    "Probemos."
   ]
  },
  {
   "cell_type": "code",
   "execution_count": 13,
   "metadata": {},
   "outputs": [
    {
     "name": "stdout",
     "output_type": "stream",
     "text": [
      "output mean: -0.0078019720931586075\n",
      "output[3, 2, 1]: [ 0.49930938 -0.47299672  0.32697871  2.02563725  0.4256935   2.47682402\n",
      " -1.78597367  0.35094674]\n",
      "cache[0][1][2][3]: [-0.20075807  0.18656139  0.41005165]\n"
     ]
    }
   ],
   "source": [
    "np.random.seed(1)\n",
    "\n",
    "previous_layer = np.random.randn(10, 4, 4, 3)\n",
    "filters = np.random.randn(2, 2, 3, 8)\n",
    "biases = np.random.randn(1, 1, 1, 8)\n",
    "\n",
    "hyper_parameters = {\n",
    "    'pad': 2,\n",
    "    'stride': 2\n",
    "}\n",
    "\n",
    "output_volume, cache = convolution_forward(previous_layer, filters, biases, hyper_parameters)\n",
    "\n",
    "print(f'output mean: {np.mean(output_volume)}')\n",
    "print(f'output[3, 2, 1]: {output_volume[3, 2, 1]}')\n",
    "print(f'cache[0][1][2][3]: {cache[0][1][2][3]}')"
   ]
  },
  {
   "cell_type": "markdown",
   "metadata": {},
   "source": [
    "Ten en cuenta que el volumen resultante no ha sido activado (es decir, no usamos una función de activación como ReLu)."
   ]
  },
  {
   "cell_type": "markdown",
   "metadata": {},
   "source": [
    "### Capas de Agrupación\n",
    "\n",
    "Las capas de agrupación son una gran herramienta tanto para resumir la información de un volumen, así como para reducir su dimensionalidad.\n",
    "\n",
    "El método para hacer esto sigue una receta similar a la de las convoluciones: Aplicaremos la operación específica sobre diferentes regiones del volumen de entrada. Sin embargo, no necesitamos filtros como tal. En cambio, siempre aplicaremos la misma operación (típicamente `max` o `avg`).\n",
    "\n",
    "Aunque éstas capas no necesitan entrenamiento, sí requieren algunos hiperparámetros, tales como el tamaño o dimensiones de la ventana de aplicación.\n",
    "\n",
    "<table>\n",
    "<td>\n",
    "<img src=\"assets/max_pool1.png\" style=\"width:500px;height:300px;\">\n",
    "<td>\n",
    "\n",
    "<td>\n",
    "<img src=\"assets/a_pool.png\" style=\"width:500px;height:300px;\">\n",
    "<td>\n",
    "</table>"
   ]
  },
  {
   "cell_type": "markdown",
   "metadata": {},
   "source": [
    "Implementemos una función para aplicar Max Pooling o Average Pooling:"
   ]
  },
  {
   "cell_type": "code",
   "execution_count": 14,
   "metadata": {},
   "outputs": [],
   "source": [
    "def pool_forward(previous_layer, hyper_parameters, mode='max'):\n",
    "    assert mode in {'max', 'average'}, 'Mode must be either max or average.'\n",
    "    \n",
    "    # Obtiene las dimensiones del volumen de entrada.\n",
    "    (batch_size, previous_height, previous_width, previous_channels) = previous_layer.shape\n",
    "    \n",
    "    # Obtiene los hiperparámetros de interés.\n",
    "    window_size = hyper_parameters['window_size']\n",
    "    stride = hyper_parameters['stride']\n",
    "    \n",
    "    # Define las dimensiones del volumen de salida.\n",
    "    output_height = int(1 + (previous_height - window_size) / stride)\n",
    "    output_width = int(1 + (previous_width - window_size) / stride)\n",
    "    output_channels = previous_channels\n",
    "    \n",
    "    # Inicializa el volumen de salida.\n",
    "    output_volume = np.zeros((batch_size, output_height, output_width, output_channels))\n",
    "    \n",
    "    for i in range(batch_size):\n",
    "        for h in range(output_height):\n",
    "            for w in range(output_width):\n",
    "                for c in range(output_channels):\n",
    "                    \n",
    "                    # Encuentra los vértices de la porción actual.\n",
    "                    vertical_start = w\n",
    "                    vertical_end = w + window_size\n",
    "                    horizontal_start = h\n",
    "                    horizontal_end = h + window_size\n",
    "                    \n",
    "                    # Usa los vértices para definir la porción actual del i-ésimo ejemplo de entrenamiento.\n",
    "                    previous_slice = previous_layer[vertical_start:vertical_end,\n",
    "                                                    horizontal_start:horizontal_end,\n",
    "                                                    c]\n",
    "                    \n",
    "                    if mode == 'max':\n",
    "                        output_volume[i, h, w, c] = np.max(previous_slice)\n",
    "                    else:\n",
    "                        output_volume[i, h, w, c] = np.mean(previous_slice)\n",
    "                        \n",
    "    # Sanity check\n",
    "    assert output_volume.shape == (batch_size, output_height, output_width, output_channels)\n",
    "    \n",
    "    cache = (previous_layer, hyper_parameters)\n",
    "    \n",
    "    return output_volume, cache"
   ]
  },
  {
   "cell_type": "markdown",
   "metadata": {},
   "source": [
    "Corrida de prueba:"
   ]
  },
  {
   "cell_type": "code",
   "execution_count": 17,
   "metadata": {},
   "outputs": [
    {
     "name": "stdout",
     "output_type": "stream",
     "text": [
      "Mode: max\n",
      "Output: \n",
      "\t[[[[1.62434536 0.86540763 2.18557541]]]\n",
      "\n",
      "\n",
      " [[[1.62434536 0.86540763 2.18557541]]]]\n",
      "\n",
      "Mode: average\n",
      "Output: \n",
      "\t[[[[ 0.24481813 -0.47568152  0.3263877 ]]]\n",
      "\n",
      "\n",
      " [[[ 0.24481813 -0.47568152  0.3263877 ]]]]\n",
      "\n"
     ]
    }
   ],
   "source": [
    "np.random.seed(1)\n",
    "previous_layer = np.random.randn(2, 4, 4, 3)\n",
    "hyper_parameters = {\n",
    "    'stride': 2,\n",
    "    'window_size': 3\n",
    "}\n",
    "\n",
    "for mode in ['max', 'average']:\n",
    "    \n",
    "    output_volume, cache = pool_forward(previous_layer, hyper_parameters, mode)\n",
    "    print(f'Mode: {mode}')\n",
    "    print(f'Output: \\n\\t{output_volume}\\n')"
   ]
  },
  {
   "cell_type": "markdown",
   "metadata": {},
   "source": [
    "¡Estamos listos! Acabamos de implementar dos de los elementos más importantes para construir CNNs. Vaya montón de código, ¿no? Esto es lo que frameworks de deep learning como TensorFlow o Keras hacen por debajo, lo que facilita nuestras vidas inmensamente. "
   ]
  }
 ],
 "metadata": {
  "kernelspec": {
   "display_name": "Python 3",
   "language": "python",
   "name": "python3"
  },
  "language_info": {
   "codemirror_mode": {
    "name": "ipython",
    "version": 3
   },
   "file_extension": ".py",
   "mimetype": "text/x-python",
   "name": "python",
   "nbconvert_exporter": "python",
   "pygments_lexer": "ipython3",
   "version": "3.6.5"
  }
 },
 "nbformat": 4,
 "nbformat_minor": 2
}
