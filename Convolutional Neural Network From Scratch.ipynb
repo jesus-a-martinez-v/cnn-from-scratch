{
 "cells": [
  {
   "cell_type": "markdown",
   "metadata": {},
   "source": [
    "# Convolutional Neural Network From Scratch\n",
    "\n",
    "In this notebook we will implement a convolutional and a pooling layer from scratch, as well as the forward propagation step of a CNN, in order to better understand their inner working. \n",
    "\n",
    "For this matter, we'll rely on both `numpy` and `pandas`, two of the most pervasive, relevant and foundational Python libraries for data science and machine learning."
   ]
  },
  {
   "cell_type": "markdown",
   "metadata": {},
   "source": [
    "## Preliminaries\n",
    "\n",
    "Let's start by importing the libraries we will need."
   ]
  },
  {
   "cell_type": "code",
   "execution_count": 1,
   "metadata": {},
   "outputs": [],
   "source": [
    "import numpy as np\n",
    "import h5py\n",
    "import matplotlib.pyplot as plt"
   ]
  },
  {
   "cell_type": "markdown",
   "metadata": {},
   "source": [
    "Let's now configure some default parameters:"
   ]
  },
  {
   "cell_type": "code",
   "execution_count": 2,
   "metadata": {},
   "outputs": [],
   "source": [
    "%matplotlib inline\n",
    "plt.rcParams['figure.figsize'] = (5.0, 4.0)\n",
    "plt.rcParams['image.interpolation'] = 'nearest'\n",
    "plt.rcParams['image.cmap'] = 'gray'\n",
    "\n",
    "%load_ext autoreload\n",
    "%autoreload 2\n",
    "\n",
    "np.random.seed(1)"
   ]
  },
  {
   "cell_type": "markdown",
   "metadata": {},
   "source": [
    "## Our Plan\n",
    "\n",
    "Our plan is to implement the following model:\n",
    "\n",
    "<img src=\"assets/model.png\" style=\"width:800px;height:300px;\">\n",
    "\n",
    "In particular, we'll implement functions to create two of the most important building blocks of CNNs: **Convolutional layers**, and **Pooling layers**. \n",
    "\n",
    "Given that for each forward functions there's a backward equivalent, we will store some parameters in a cache to avoid unnecessary re-computation."
   ]
  },
  {
   "cell_type": "markdown",
   "metadata": {},
   "source": [
    "## CNNs: Harder than They Look\n",
    "\n",
    "TensorFlow, Keras, fast.ai, PyTorch, Caffe, Deeplearning4j... These are some of the frameworks that make programming convolutional neural networks seem easy. However, CNNs remain one of the hardest concepts to understand in the field of deep learning. \n",
    "\n",
    "### Convolving\n",
    "\n",
    "This is the main operation of a convolutional layer. In a nutshell, it transforms an input volume into an output volume with different size.\n",
    "\n",
    "<img src=\"assets/conv_nn.png\" style=\"width:350px;height:200px;\">\n",
    "\n",
    "### Padding\n",
    "\n",
    "<img src=\"assets/PAD.png\" style=\"width:600px;height:400px;\">\n",
    "<caption><center> Zero-Padding<br> Image (3 channels, RGB) with a padding of 2. </center></caption>\n",
    "\n",
    "Padding consists of adding zeroes to the border of an image to allow convolution operations to happen near the edges of the picture.\n",
    "\n",
    "This has the benefit of helping us keep information that appears at the border of an image, which, without padding, would be otherwise lost.\n",
    "\n",
    "Also, we can convolve the volumes without necessarily shrinking the height and width of the volumes.\n",
    "\n",
    "Let's implement a padding function:"
   ]
  },
  {
   "cell_type": "code",
   "execution_count": 3,
   "metadata": {},
   "outputs": [],
   "source": [
    "def zero_pad(X, pad):\n",
    "    \"\"\"\n",
    "    :param X: X is a tensor of dimensions (batch_size, height, width, number_of_channels)\n",
    "    :param pad: Amount of padding to be applied to the horizontal and vertical dimensions of a volume.\n",
    "    \n",
    "    :return Zero-padded X tensor with shape (batch_size, height + 2 * pad, width + 2 * pad, number_of_channels)\n",
    "    \"\"\"\n",
    "    \n",
    "    # Here we apply 'constant' padding to the widht and height. The first and last [(0, 0)] tell np.pad we want to pad with zeroes\n",
    "    # each batch and each channel of the volume. The default contant value for padding is zero, that's why we don't specify it\n",
    "    # explicitly.\n",
    "    X_pad = np.pad(X, [(0, 0)] + [(pad, pad) for _ in range(len(X.shape[1:-1]))] + [(0, 0)], 'constant')"
   ]
  },
  {
   "cell_type": "markdown",
   "metadata": {},
   "source": [
    "Let's try it."
   ]
  },
  {
   "cell_type": "code",
   "execution_count": 4,
   "metadata": {},
   "outputs": [
    {
     "name": "stdout",
     "output_type": "stream",
     "text": [
      "X shape: (4, 3, 3, 2)\n",
      "X_pad shape: (4, 7, 7, 2)\n"
     ]
    }
   ],
   "source": [
    "np.random.seed(1)\n",
    "\n",
    "X = np.random.randn(4, 3, 3, 2)\n",
    "X_pad = zero_pad(X, 2)\n",
    "\n",
    "print(f'X shape: {X.shape}')\n",
    "print(f'X_pad shape: {X_pad.shape}')"
   ]
  },
  {
   "cell_type": "markdown",
   "metadata": {},
   "source": [
    "Let's show both X and X_pad as images:"
   ]
  },
  {
   "cell_type": "code",
   "execution_count": 6,
   "metadata": {},
   "outputs": [
    {
     "data": {
      "text/plain": [
       "<matplotlib.image.AxesImage at 0x1bcc039f9b0>"
      ]
     },
     "execution_count": 6,
     "metadata": {},
     "output_type": "execute_result"
    },
    {
     "data": {
      "image/png": "[encoded data removed]",
      "text/plain": [
       "<matplotlib.figure.Figure at 0x1bcbe307be0>"
      ]
     },
     "metadata": {},
     "output_type": "display_data"
    }
   ],
   "source": [
    "fig, ax = plt.subplots(1, 2)\n",
    "ax[0].set_title('X')\n",
    "ax[0].imshow(X[0, :, :, 0])\n",
    "\n",
    "ax[1].set_title('X_pad')\n",
    "ax[1].imshow(X_pad[0, :, :, 0])"
   ]
  },
  {
   "cell_type": "markdown",
   "metadata": {},
   "source": [
    "We can see that `X_pad` has a thicker black area surrounding the original `X` image, which makes sense because 0 represents full black in a grayscale image."
   ]
  },
  {
   "cell_type": "markdown",
   "metadata": {},
   "source": [
    "### Convolution Step\n",
    "\n",
    "Let's now move to the main step: Convolving!\n",
    "\n",
    "Just as a quick reminder, see the image below to recall how a convolution operation works:\n",
    "\n",
    "<img src=\"assets/Convolution_schematic.gif\" style=\"width:500px;height:300px;\">\n",
    "<caption><center> Convolution operation<br> with a filter of 2x2 and a stride of 1 (stride = amount you move the window each time you slide) </center></caption>\n",
    "\n",
    "Here each value on the left corresponds to a single pixel value, and we are convolving them using a 3x3 filter. The operation, then, consists on multiplying the elements in the region of the image by the elements in the filter, in a element-wise fashion. Finally, we sum them all to produce a single entry in the resulting volume."
   ]
  },
  {
   "cell_type": "code",
   "execution_count": 7,
   "metadata": {},
   "outputs": [],
   "source": [
    "def convolution_step(previous_layer_slice, weights, bias):\n",
    "    s = np.multiply(previous_layer_slice, weights)\n",
    "    result = np.sum(s)\n",
    "    result += bias[0, 0, 0]\n",
    "    \n",
    "    return Z"
   ]
  },
  {
   "cell_type": "markdown",
   "metadata": {},
   "source": [
    "Let's try it:"
   ]
  },
  {
   "cell_type": "code",
   "execution_count": 9,
   "metadata": {},
   "outputs": [
    {
     "name": "stdout",
     "output_type": "stream",
     "text": [
      "Z = -6.094205555853435\n"
     ]
    }
   ],
   "source": [
    "np.random.seed(1)\n",
    "\n",
    "previous_layer_slice = np.random.randn(4, 4, 3)  \n",
    "weights = np.random.randn(4, 4, 3)  # This is the filter we will apply\n",
    "bias = np.random.rand(1, 1, 1)\n",
    "\n",
    "Z = convolution_step(previous_layer_slice, weights, bias)\n",
    "\n",
    "print(f'Z = {Z}')"
   ]
  },
  {
   "cell_type": "markdown",
   "metadata": {},
   "source": [
    "As we saw, the function we just implement applies a convolution operation over a single area/slace from the previous layer. Hence, if we actually want to produce a new volume, we must apply this function many tmes. In other words, we must implement a forward pass."
   ]
  },
  {
   "cell_type": "markdown",
   "metadata": {},
   "source": [
    "### CNNs - Forward Pass\n",
    "\n",
    "We will implement the following process:\n",
    "    \n",
    "<center>\n",
    "<video width=\"620\" height=\"440\" src=\"assets/conv_kiank.mp4\" type=\"video/mp4\" controls>\n",
    "</video>\n",
    "</center>\n",
    "\n",
    "We will apply a set of filters all over the input volume to produce the proper output.\n",
    "\n",
    "NOTE: We won't worry about efficiency here. We'll rather focus on simplicity. This is why we will implement an iterative solution instead of a vectorized one."
   ]
  },
  {
   "cell_type": "code",
   "execution_count": 12,
   "metadata": {},
   "outputs": [],
   "source": [
    "def convolution_forward(previous_layer, filters, biases, hyper_parameters):\n",
    "    \n",
    "    # Extract previous layer dimensions\n",
    "    (batch_size, previous_height, previous_width, previous_channels) = previous_layer.shape\n",
    "    \n",
    "    \n",
    "    # Extract convolution filters dimensions\n",
    "    (filter_size, filter_size, previous_channels, number_of_filters) = filters.shape\n",
    "    \n",
    "    # Extract relevant hyper parameters.\n",
    "    stride = hyper_parameters['stride']\n",
    "    pad = hyper_parameters['pad']\n",
    "    \n",
    "    # Compute the dimensions of the output:\n",
    "    output_height = int((previous_height - filter_size + 2 * pad) / stride + 1)\n",
    "    output_width = int((previous_width - filter_size + 2 * pad) / stride + 1)\n",
    "    \n",
    "    # Initialize output volume with zeroes\n",
    "    output_volume = np.zeros((batch_size, output_height, output_width, number_of_filters))\n",
    "    \n",
    "    # Pad the previous layer\n",
    "    previous_layer_padded = zero_pad(previous_layer, pad)\n",
    "    \n",
    "    for i in range(batch_size):\n",
    "        padded_training_example = previous_layer_padded[i, :, :, :]\n",
    "        \n",
    "        for h in range(0, output_height):\n",
    "            for w in range(0, output_width):\n",
    "                for c in range(number_of_filters):\n",
    "                \n",
    "                    # Find the corners of the current slice\n",
    "                    vertical_start = w\n",
    "                    vertical_end = w + filter_size\n",
    "                    horizontal_start = h\n",
    "                    horizontal_end = h + filter_size\n",
    "                    \n",
    "                    # Use the corners to define the (3D) slice of padded_training_example\n",
    "                    padded_slice = padded_training_example[vertical_start:vertical_end,\n",
    "                                                           horizontal_start:horizontal_end]\n",
    "                    \n",
    "                    # Apply convolution:\n",
    "                    weights = filters[:, :, :, c]\n",
    "                    bias = biases[:, :, :, c]\n",
    "                    \n",
    "                    output_volume[i, h, w, c] = convolution_step(padded_slice, weights, bias)\n",
    "                    \n",
    "    # Sanity check to check the output dimensions are correct\n",
    "    assert(output_volume.shape == (batch_size, output_height, output_width, number_of_filters))\n",
    "    \n",
    "    # Cache information\n",
    "    cache = (previous_layer, filters, biases, hyper_parameters)\n",
    "    \n",
    "    return output_volume, cache"
   ]
  },
  {
   "cell_type": "markdown",
   "metadata": {},
   "source": [
    "Let's try it."
   ]
  },
  {
   "cell_type": "code",
   "execution_count": 13,
   "metadata": {},
   "outputs": [
    {
     "name": "stdout",
     "output_type": "stream",
     "text": [
      "output mean: -0.0078019720931586075\n",
      "output[3, 2, 1]: [ 0.49930938 -0.47299672  0.32697871  2.02563725  0.4256935   2.47682402\n",
      " -1.78597367  0.35094674]\n",
      "cache[0][1][2][3]: [-0.20075807  0.18656139  0.41005165]\n"
     ]
    }
   ],
   "source": [
    "np.random.seed(1)\n",
    "\n",
    "previous_layer = np.random.randn(10, 4, 4, 3)\n",
    "filters = np.random.randn(2, 2, 3, 8)\n",
    "biases = np.random.randn(1, 1, 1, 8)\n",
    "\n",
    "hyper_parameters = {\n",
    "    'pad': 2,\n",
    "    'stride': 2\n",
    "}\n",
    "\n",
    "output_volume, cache = convolution_forward(previous_layer, filters, biases, hyper_parameters)\n",
    "\n",
    "print(f'output mean: {np.mean(output_volume)}')\n",
    "print(f'output[3, 2, 1]: {output_volume[3, 2, 1]}')\n",
    "print(f'cache[0][1][2][3]: {cache[0][1][2][3]}')"
   ]
  },
  {
   "cell_type": "markdown",
   "metadata": {},
   "source": [
    "Notice the resulting volume hasn't been activated."
   ]
  },
  {
   "cell_type": "markdown",
   "metadata": {},
   "source": [
    "### Pooling Layers\n",
    "\n",
    "Pooling layers are a great way to both summarize the information in a volume and reduce its dimensionality.\n",
    "\n",
    "The method to do this follows a similar recipe than in the case of convolutions: We apply the operation over different slices of the input volume. However, we don't need filters. Instead, we always apply the same operaton (typically a `max` or `avg` operation).\n",
    "\n",
    "Although these layers don't need to be trained, they require some hyper parameters, such as the window size\n",
    "\n",
    "<table>\n",
    "<td>\n",
    "<img src=\"assets/max_pool1.png\" style=\"width:500px;height:300px;\">\n",
    "<td>\n",
    "\n",
    "<td>\n",
    "<img src=\"assets/a_pool.png\" style=\"width:500px;height:300px;\">\n",
    "<td>\n",
    "</table>"
   ]
  },
  {
   "cell_type": "markdown",
   "metadata": {},
   "source": [
    "Let's implement a function to apply either Max Pooling or Average Pooling:"
   ]
  },
  {
   "cell_type": "code",
   "execution_count": 14,
   "metadata": {},
   "outputs": [],
   "source": [
    "def pool_forward(previous_layer, hyper_parameters, mode='max'):\n",
    "    assert mode in {'max', 'average'}, 'Mode must be either max or average.'\n",
    "    \n",
    "    # Retrieve input shape\n",
    "    (batch_size, previous_height, previous_width, previous_channels) = previous_layer.shape\n",
    "    \n",
    "    # Retrieve relevant hyper parameters\n",
    "    window_size = hyper_parameters['window_size']\n",
    "    stride = hyper_parameters['stride']\n",
    "    \n",
    "    # Define output shape\n",
    "    output_height = int(1 + (previous_height - window_size) / stride)\n",
    "    output_width = int(1 + (previous_width - window_size) / stride)\n",
    "    output_channels = previous_channels\n",
    "    \n",
    "    # Initialize output\n",
    "    output_volume = np.zeros((batch_size, output_height, output_width, output_channels))\n",
    "    \n",
    "    for i in range(batch_size):\n",
    "        for h in range(output_height):\n",
    "            for w in range(output_width):\n",
    "                for c in range(output_channels):\n",
    "                    \n",
    "                    # Find the corners of the current slice\n",
    "                    vertical_start = w\n",
    "                    vertical_end = w + window_size\n",
    "                    horizontal_start = h\n",
    "                    horizontal_end = h + window_size\n",
    "                    \n",
    "                    # Use the corners to define the current slice on the ith training example\n",
    "                    previous_slice = previous_layer[vertical_start:vertical_end,\n",
    "                                                    horizontal_start:horizontal_end,\n",
    "                                                    c]\n",
    "                    \n",
    "                    if mode == 'max':\n",
    "                        output_volume[i, h, w, c] = np.max(previous_slice)\n",
    "                    else:\n",
    "                        output_volume[i, h, w, c] = np.mean(previous_slice)\n",
    "                        \n",
    "    # Sanity check\n",
    "    assert output_volume.shape == (batch_size, output_height, output_width, output_channels)\n",
    "    \n",
    "    cache = (previous_layer, hyper_parameters)\n",
    "    \n",
    "    return output_volume, cache"
   ]
  },
  {
   "cell_type": "markdown",
   "metadata": {},
   "source": [
    "Test run:\n"
   ]
  },
  {
   "cell_type": "code",
   "execution_count": 17,
   "metadata": {},
   "outputs": [
    {
     "name": "stdout",
     "output_type": "stream",
     "text": [
      "Mode: max\n",
      "Output: \n",
      "\t[[[[1.62434536 0.86540763 2.18557541]]]\n",
      "\n",
      "\n",
      " [[[1.62434536 0.86540763 2.18557541]]]]\n",
      "\n",
      "Mode: average\n",
      "Output: \n",
      "\t[[[[ 0.24481813 -0.47568152  0.3263877 ]]]\n",
      "\n",
      "\n",
      " [[[ 0.24481813 -0.47568152  0.3263877 ]]]]\n",
      "\n"
     ]
    }
   ],
   "source": [
    "np.random.seed(1)\n",
    "previous_layer = np.random.randn(2, 4, 4, 3)\n",
    "hyper_parameters = {\n",
    "    'stride': 2,\n",
    "    'window_size': 3\n",
    "}\n",
    "\n",
    "for mode in ['max', 'average']:\n",
    "    \n",
    "    output_volume, cache = pool_forward(previous_layer, hyper_parameters, mode)\n",
    "    print(f'Mode: {mode}')\n",
    "    print(f'Output: \\n\\t{output_volume}\\n')"
   ]
  },
  {
   "cell_type": "markdown",
   "metadata": {},
   "source": [
    "We are done! We implemented two of the most important building blocks of CNNs. Quite a handful of code, right? This is what deep learning frameworks like TensorFlow or Keras do under the hood."
   ]
  }
 ],
 "metadata": {
  "kernelspec": {
   "display_name": "Python 3",
   "language": "python",
   "name": "python3"
  },
  "language_info": {
   "codemirror_mode": {
    "name": "ipython",
    "version": 3
   },
   "file_extension": ".py",
   "mimetype": "text/x-python",
   "name": "python",
   "nbconvert_exporter": "python",
   "pygments_lexer": "ipython3",
   "version": "3.6.5"
  }
 },
 "nbformat": 4,
 "nbformat_minor": 2
}
